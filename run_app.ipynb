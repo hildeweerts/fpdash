{
 "cells": [
  {
   "cell_type": "code",
   "execution_count": null,
   "metadata": {},
   "outputs": [
    {
     "name": "stdout",
     "output_type": "stream",
     "text": [
      "Running on http://127.0.0.1:8050/\n",
      "Running on http://127.0.0.1:8050/\n",
      "Running on http://127.0.0.1:8050/\n",
      "Running on http://127.0.0.1:8050/\n",
      "Running on http://127.0.0.1:8050/\n",
      "Running on http://127.0.0.1:8050/\n",
      "Running on http://127.0.0.1:8050/\n",
      "Running on http://127.0.0.1:8050/\n",
      "Running on http://127.0.0.1:8050/\n",
      "Running on http://127.0.0.1:8050/\n",
      "Running on http://127.0.0.1:8050/\n",
      "Running on http://127.0.0.1:8050/\n",
      "Debugger PIN: 274-397-893\n",
      "Debugger PIN: 274-397-893\n",
      "Debugger PIN: 274-397-893\n",
      "Debugger PIN: 274-397-893\n",
      "Debugger PIN: 274-397-893\n",
      "Debugger PIN: 274-397-893\n",
      "Debugger PIN: 274-397-893\n",
      "Debugger PIN: 274-397-893\n",
      "Debugger PIN: 274-397-893\n",
      "Debugger PIN: 274-397-893\n",
      "Debugger PIN: 274-397-893\n",
      "Debugger PIN: 274-397-893\n"
     ]
    },
    {
     "name": "stderr",
     "output_type": "stream",
     "text": [
      "Exception in thread Thread-6:\n",
      "Traceback (most recent call last):\n",
      "  File \"/Users/hildeweerts/anaconda/lib/python3.6/threading.py\", line 916, in _bootstrap_inner\n",
      "    self.run()\n",
      "  File \"/Users/hildeweerts/anaconda/lib/python3.6/threading.py\", line 864, in run\n",
      "    self._target(*self._args, **self._kwargs)\n",
      "  File \"/Users/hildeweerts/anaconda/lib/python3.6/site-packages/dash/dash.py\", line 1169, in <lambda>\n",
      "    sleep_time=self._dev_tools.hot_reload_watch_interval)\n",
      "  File \"/Users/hildeweerts/anaconda/lib/python3.6/site-packages/dash/_watch.py\", line 35, in watch\n",
      "    walk()\n",
      "  File \"/Users/hildeweerts/anaconda/lib/python3.6/site-packages/dash/_watch.py\", line 20, in walk\n",
      "    info = os.stat(path)\n",
      "FileNotFoundError: [Errno 2] No such file or directory: '/Users/hildeweerts/Projects/fpdash/assets/.~bWLwgP.css'\n",
      "\n"
     ]
    }
   ],
   "source": [
    "%run app.py"
   ]
  },
  {
   "cell_type": "code",
   "execution_count": null,
   "metadata": {},
   "outputs": [],
   "source": []
  }
 ],
 "metadata": {
  "kernelspec": {
   "display_name": "Python 3",
   "language": "python",
   "name": "python3"
  },
  "language_info": {
   "codemirror_mode": {
    "name": "ipython",
    "version": 3
   },
   "file_extension": ".py",
   "mimetype": "text/x-python",
   "name": "python",
   "nbconvert_exporter": "python",
   "pygments_lexer": "ipython3",
   "version": "3.6.0"
  }
 },
 "nbformat": 4,
 "nbformat_minor": 2
}
