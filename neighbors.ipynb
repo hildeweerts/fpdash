{
 "cells": [
  {
   "cell_type": "code",
   "execution_count": 32,
   "metadata": {},
   "outputs": [],
   "source": [
    "import os, sys, pickle\n",
    "import numpy as np \n",
    "import pandas as pd \n",
    "\n",
    "# Neighbor\n",
    "from sklearn.manifold import MDS\n",
    "\n",
    "# Directories\n",
    "data_dir = os.getcwd() + '/data'\n",
    "code_dir = os.getcwd() + '/fpdash'\n",
    "sys.path.append(code_dir)"
   ]
  },
  {
   "cell_type": "code",
   "execution_count": 33,
   "metadata": {},
   "outputs": [],
   "source": [
    "# Import classifier\n",
    "with open(os.getcwd() + '/data/clf.pickle', 'rb') as f:\n",
    "    clf = pickle.load(f)\n",
    "# Import NN\n",
    "with open(os.getcwd() + '/data/nn.pickle', 'rb') as f:\n",
    "    nn = pickle.load(f)\n",
    "\n",
    "# load case base data\n",
    "X_base = pd.read_csv(os.getcwd() + '/data/X_base.csv')\n",
    "X_base_decoded = pd.read_csv(os.getcwd() + '/data/X_base_decoded.csv')\n",
    "meta_base = pd.read_csv(os.getcwd() + '/data/meta_base.csv')\n",
    "SHAP_base = pd.read_csv(os.getcwd() + '/data/SHAP_base.csv')\n",
    "\n",
    "# load alert data\n",
    "X_alert = pd.read_csv(os.getcwd() + '/data/X_alert.csv')\n",
    "X_alert_decoded = pd.read_csv(os.getcwd() + '/data/X_alert_decoded.csv')\n",
    "meta_alert = pd.read_csv(os.getcwd() + '/data/meta_alert.csv')\n",
    "SHAP_alert = pd.read_csv(os.getcwd() + '/data/SHAP_alert.csv')"
   ]
  },
  {
   "cell_type": "code",
   "execution_count": 34,
   "metadata": {},
   "outputs": [],
   "source": [
    "def retrieve_neighbors(i, n_neighbors = 10):\n",
    "    distances, neighbors = nn.kneighbors(SHAP_alert.iloc[[i]], n_neighbors=n_neighbors)\n",
    "    return distances[0], neighbors[0]\n",
    "\n",
    "def compute_mds(i, neighbors, space):\n",
    "    \"\"\"Compute x and y for multi-dimensional scaling plot.\n",
    "    \n",
    "    Parameters\n",
    "    ----------\n",
    "    i : int\n",
    "        index of instance in X_test\n",
    "    neighbors : np array [n_neighbors]\n",
    "        array with indices of neighbors in X_train\n",
    "    space : str, one from ['shap', 'feature']\n",
    "        distances computed based on shap value space or feature value space\n",
    "    \"\"\"\n",
    "    if space == 'shap':\n",
    "        alert = SHAP_alert\n",
    "        base = SHAP_base\n",
    "    elif space == 'feature':\n",
    "        alert = X_alert\n",
    "        base = X_base\n",
    "    else:\n",
    "        raise ValueError(\"space not in ['shap', 'feature']\")\n",
    "    mds_values = np.vstack((np.array(alert.iloc[i]), np.array(base.iloc[neighbors])))\n",
    "    mds = MDS(random_state=1, dissimilarity ='euclidean', metric=True)\n",
    "    mds.fit(mds_values.astype(np.float64))\n",
    "    x, y = mds.embedding_.transpose()\n",
    "    return x, y"
   ]
  },
  {
   "cell_type": "code",
   "execution_count": 44,
   "metadata": {},
   "outputs": [],
   "source": [
    "import matplotlib \n",
    "from matplotlib import cm\n",
    "\n",
    "\"\"\"\n",
    "Colors\n",
    "\"\"\"\n",
    "# Spectral colormap\n",
    "spectral_cmap = matplotlib.cm.get_cmap('Spectral')\n",
    "spectral_rgb = []\n",
    "norm = matplotlib.colors.Normalize(vmin=0, vmax=255)\n",
    "for i in range(0, 255):\n",
    "    k = matplotlib.colors.colorConverter.to_rgb(spectral_cmap(norm(i)))\n",
    "    spectral_rgb.append(k)\n",
    "spectral = []\n",
    "\n",
    "n_entries = 255\n",
    "for k in [x / n_entries for x in range(0, n_entries+1, 1)]:\n",
    "    C = spectral_rgb[int(np.round(255*k))-1]\n",
    "    spectral.append([k, 'rgb'+str((C[0], C[1], C[2]))])\n",
    "    \n",
    "# Border colors\n",
    "opacity = 0.5\n",
    "cat_colors = {'TP' : 'rgba(159, 211, 86, %s)' % opacity,\n",
    "             'TN' : 'rgba(13, 181, 230, %s)' % opacity,\n",
    "             'FP' : 'rgba(177, 15, 46, %s)' % opacity,\n",
    "             'FN' : 'rgba(255, 165, 76, %s)' % opacity}\n",
    "\n",
    "\n",
    "def scatter_neighbors(x, y, neighbors, meta_base):\n",
    "    global spectral\n",
    "    global cat_colors\n",
    "    \n",
    "    \"\"\"\n",
    "    PREP\n",
    "    \"\"\"\n",
    "    # Retrieve meta information\n",
    "    meta_neighbors = pd.DataFrame({'x' : x[1:], 'y' : y[1:], \n",
    "                  'performance' : meta_base['performance'].iloc[neighbors], \n",
    "                  'score' : meta_base['score'].iloc[neighbors], \n",
    "                  'index' : neighbors})\n",
    "    \"\"\"\n",
    "    ADD TRACES\n",
    "    \"\"\"\n",
    "    traces = []\n",
    "    # Add neighbors\n",
    "    for perf in ['TP', 'TN', 'FP', 'FN']:\n",
    "        group = meta_neighbors[meta_neighbors['performance'] == perf]\n",
    "        scatter = go.Scatter(\n",
    "            x = group['x'],\n",
    "            y = group['y'],\n",
    "            mode = 'markers',\n",
    "            marker = {'line' : {'width' : 0, 'color' : cat_colors[perf]},\n",
    "                      'color' : group['score'],\n",
    "                      'colorscale' : spectral,\n",
    "                      'cmin' : 0,\n",
    "                      'cmax' : 1,\n",
    "                      'size' : 10},\n",
    "            showlegend = False,\n",
    "            name=perf,\n",
    "            hoverinfo = 'text',\n",
    "            hoveron = 'points',\n",
    "            text = ['p=%.2f' % i for i in group['score']])\n",
    "        traces.append(scatter)\n",
    "    #Add alert\n",
    "    traces.append(go.Scatter(\n",
    "        x = [x[0]],\n",
    "        y = [y[0]],\n",
    "        mode = 'markers',\n",
    "        marker = {'line' : {'width' : 3, 'color' : 'rgba(50, 50, 50, 1)'},\n",
    "                  'size' : 15,\n",
    "                  'color' : 'rgba(255, 255, 0, 0.3)'},\n",
    "        name = 'Current alert',\n",
    "        showlegend = True,\n",
    "        hoverinfo = 'name',\n",
    "        hoveron = 'points',\n",
    "        text = 'Current alert'))\n",
    "    # Add dummy colorbar\n",
    "    traces.append(go.Scatter(\n",
    "        x=[None],\n",
    "        y=[None],\n",
    "        mode='markers',\n",
    "        marker=dict(\n",
    "            colorscale=spectral, \n",
    "            showscale=True,\n",
    "            cmin=0,\n",
    "            cmax=1,\n",
    "            colorbar=dict(thickness=10, outlinewidth=0, title=\"\"\"Prediction\"\"\")),\n",
    "        showlegend = False,\n",
    "        hoverinfo='none'))\n",
    "\n",
    "    \"\"\"\n",
    "    Define layout\n",
    "    \"\"\"\n",
    "    xaxis = {'fixedrange' : False,\n",
    "             'showgrid' : True,\n",
    "            'zeroline' : False,\n",
    "            'showline' : False,\n",
    "            'showticklabels' : False,\n",
    "        }\n",
    "    yaxis = {'fixedrange' : False,\n",
    "            'showgrid' : True,\n",
    "            'zeroline' : False,\n",
    "            'showline' : False,\n",
    "            'showticklabels' : False\n",
    "        }\n",
    "    margin = go.layout.Margin(l=0, r=0, t=0, b=0, pad=0)\n",
    "    layout = go.Layout(yaxis = yaxis, xaxis = xaxis, margin = margin, height = 300,\n",
    "                       hovermode = 'closest', legend = dict(y=-0.05, orientation='h'))\n",
    "    fig = dict(data=traces, layout=layout)\n",
    "    return fig\n",
    "\n",
    "def update_performance(fig, border_width=4):\n",
    "    global spectral\n",
    "    if fig['data'][0]['marker']['line']['width'] == 0:\n",
    "        fig['data'][5]['marker']['showscale'] = False\n",
    "        for i in range(4):\n",
    "            fig['data'][i]['marker']['line']['width'] = border_width\n",
    "            fig['data'][i]['marker']['colorscale'] = [[0,'rgba(75, 75, 75, 1)'], [1, 'rgba(75, 75, 75, 1)']]\n",
    "            fig['data'][i]['showlegend'] = True\n",
    "            \n",
    "    else:\n",
    "        fig['data'][5]['marker']['showscale'] = True\n",
    "        for i in range(4):\n",
    "            fig['data'][i]['marker']['line']['width'] = 0\n",
    "            fig['data'][i]['marker']['colorscale'] = spectral\n",
    "            fig['data'][i]['showlegend'] = False\n",
    "    return fig"
   ]
  },
  {
   "cell_type": "code",
   "execution_count": 45,
   "metadata": {},
   "outputs": [],
   "source": [
    "i=1\n",
    "n_neighbors=20\n",
    "space = 'feature'\n",
    "distances, neighbors = retrieve_neighbors(i, n_neighbors)\n",
    "x, y = compute_mds(i, neighbors, space=space)"
   ]
  },
  {
   "cell_type": "code",
   "execution_count": 46,
   "metadata": {},
   "outputs": [
    {
     "data": {
      "text/plain": [
       "'file:///Users/hildeweerts/Projects/fpdash/temp-plot.html'"
      ]
     },
     "execution_count": 46,
     "metadata": {},
     "output_type": "execute_result"
    }
   ],
   "source": [
    "from plotly.offline import download_plotlyjs, init_notebook_mode, plot, iplot\n",
    "\n",
    "fig = scatter_neighbors(x, y, neighbors, meta_base)\n",
    "fig = update_performance(fig)\n",
    "plot(fig, config = {'displayModeBar' : False, 'showLink' : False})"
   ]
  },
  {
   "cell_type": "code",
   "execution_count": 48,
   "metadata": {},
   "outputs": [],
   "source": [
    "import dash_core_components as dcc\n",
    "\n",
    "dcss_fig = dcc.Graph(figure = fig,\n",
    "                     #style = {'height' : '18px',\n",
    "                     #  'width' : '170px'}\n",
    "                    )"
   ]
  },
  {
   "cell_type": "code",
   "execution_count": 56,
   "metadata": {},
   "outputs": [],
   "source": [
    "dcss_fig.figure['data'] = 0"
   ]
  },
  {
   "cell_type": "code",
   "execution_count": 57,
   "metadata": {},
   "outputs": [
    {
     "data": {
      "text/plain": [
       "Graph(figure={'data': 0, 'layout': Layout({\n",
       "    'height': 300,\n",
       "    'hovermode': 'closest',\n",
       "    'legend': {'orientation': 'h', 'y': -0.05},\n",
       "    'margin': {'b': 0, 'l': 0, 'pad': 0, 'r': 0, 't': 0},\n",
       "    'xaxis': {'fixedrange': False, 'showgrid': True, 'showline': False, 'showticklabels': False, 'zeroline': False},\n",
       "    'yaxis': {'fixedrange': False, 'showgrid': True, 'showline': False, 'showticklabels': False, 'zeroline': False}\n",
       "})})"
      ]
     },
     "execution_count": 57,
     "metadata": {},
     "output_type": "execute_result"
    }
   ],
   "source": [
    "dcss_fig"
   ]
  },
  {
   "cell_type": "code",
   "execution_count": 65,
   "metadata": {},
   "outputs": [
    {
     "data": {
      "text/plain": [
       "False"
      ]
     },
     "execution_count": 65,
     "metadata": {},
     "output_type": "execute_result"
    }
   ],
   "source": [
    "n_clicks = 9\n",
    "(n_clicks is None) or (n_clicks % 2 == 0)"
   ]
  },
  {
   "cell_type": "code",
   "execution_count": null,
   "metadata": {},
   "outputs": [],
   "source": []
  }
 ],
 "metadata": {
  "kernelspec": {
   "display_name": "Python 3",
   "language": "python",
   "name": "python3"
  },
  "language_info": {
   "codemirror_mode": {
    "name": "ipython",
    "version": 3
   },
   "file_extension": ".py",
   "mimetype": "text/x-python",
   "name": "python",
   "nbconvert_exporter": "python",
   "pygments_lexer": "ipython3",
   "version": "3.6.0"
  }
 },
 "nbformat": 4,
 "nbformat_minor": 2
}
