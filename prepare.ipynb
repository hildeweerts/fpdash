{
 "cells": [
  {
   "cell_type": "code",
   "execution_count": 1,
   "metadata": {},
   "outputs": [],
   "source": [
    "import os, sys, pickle\n",
    "import numpy as np \n",
    "\n",
    "# sklearn\n",
    "from sklearn.ensemble import RandomForestClassifier\n",
    "\n",
    "# Directories\n",
    "data_dir = os.getcwd() + '/data'\n",
    "code_dir = os.getcwd() + '/fpdash'\n",
    "sys.path.append(code_dir)\n",
    "\n",
    "# custom modules\n",
    "from cbr import prep"
   ]
  },
  {
   "cell_type": "markdown",
   "metadata": {},
   "source": [
    "#### Import data"
   ]
  },
  {
   "cell_type": "code",
   "execution_count": 2,
   "metadata": {},
   "outputs": [
    {
     "name": "stdout",
     "output_type": "stream",
     "text": [
      "Start preprocessing...\n",
      "...Used all 1000 samples from dataset 31.\n",
      "...Filled missing values.\n",
      "...Decoded to original feature values.\n"
     ]
    }
   ],
   "source": [
    "data = prep.openmlwrapper(data_id=31, random_state=1, n_samples = 2000, verbose=True, scale=False)"
   ]
  },
  {
   "cell_type": "markdown",
   "metadata": {},
   "source": [
    "#### Train classifier"
   ]
  },
  {
   "cell_type": "code",
   "execution_count": 3,
   "metadata": {},
   "outputs": [
    {
     "name": "stdout",
     "output_type": "stream",
     "text": [
      "Training Accuracy: 1.00\n",
      "Test Accuracy:     0.78\n"
     ]
    }
   ],
   "source": [
    "clf = RandomForestClassifier(n_estimators = 50, n_jobs=-2, random_state=1)\n",
    "clf.fit(data['X_train'], np.array(data['y_train']).ravel())\n",
    "print('Training Accuracy: %.2f' % clf.score(data['X_train'], data['y_train']))\n",
    "print('Test Accuracy:     %.2f' % clf.score(data['X_test'], data['y_test']))"
   ]
  },
  {
   "cell_type": "markdown",
   "metadata": {},
   "source": [
    "#### Save files"
   ]
  },
  {
   "cell_type": "code",
   "execution_count": 4,
   "metadata": {},
   "outputs": [
    {
     "name": "stdout",
     "output_type": "stream",
     "text": [
      "Saved!\n"
     ]
    }
   ],
   "source": [
    "with open(os.getcwd() + '/data/clf.pickle', 'wb') as handle:\n",
    "    pickle.dump(clf, handle, protocol=pickle.HIGHEST_PROTOCOL)\n",
    "data['X_train'].to_csv(os.getcwd() + '/data/X_train.csv', index=False)\n",
    "data['X_test'].to_csv(os.getcwd() + '/data/X_test.csv', index=False)\n",
    "data['X_test_decoded'].to_csv(os.getcwd() + '/data/X_test_decoded.csv', index=False)\n",
    "print('Saved!')"
   ]
  },
  {
   "cell_type": "code",
   "execution_count": null,
   "metadata": {},
   "outputs": [],
   "source": []
  }
 ],
 "metadata": {
  "kernelspec": {
   "display_name": "Python 3",
   "language": "python",
   "name": "python3"
  },
  "language_info": {
   "codemirror_mode": {
    "name": "ipython",
    "version": 3
   },
   "file_extension": ".py",
   "mimetype": "text/x-python",
   "name": "python",
   "nbconvert_exporter": "python",
   "pygments_lexer": "ipython3",
   "version": "3.6.0"
  }
 },
 "nbformat": 4,
 "nbformat_minor": 2
}
