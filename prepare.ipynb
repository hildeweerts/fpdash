{
 "cells": [
  {
   "cell_type": "code",
   "execution_count": 83,
   "metadata": {
    "collapsed": true,
    "jupyter": {
     "outputs_hidden": true,
     "source_hidden": true
    }
   },
   "outputs": [],
   "source": [
    "import os, sys, pickle\n",
    "import numpy as np \n",
    "import pandas as pd \n",
    "\n",
    "# sklearn\n",
    "from sklearn.ensemble import RandomForestClassifier\n",
    "from sklearn.neighbors import NearestNeighbors\n",
    "from sklearn.model_selection import train_test_split\n",
    "\n",
    "# shap\n",
    "import shap \n",
    "\n",
    "# Directories\n",
    "data_dir = os.getcwd() + '/data'\n",
    "code_dir = os.getcwd() + '/fpdash'\n",
    "sys.path.append(code_dir)\n",
    "\n",
    "# custom modules\n",
    "from cbr import prep"
   ]
  },
  {
   "cell_type": "markdown",
   "metadata": {},
   "source": [
    "#### Import data"
   ]
  },
  {
   "cell_type": "code",
   "execution_count": 113,
   "metadata": {},
   "outputs": [],
   "source": [
    "data_id = 1590 # adult\n",
    "data_id = 31 # german credit dataset"
   ]
  },
  {
   "cell_type": "code",
   "execution_count": 114,
   "metadata": {
    "jupyter": {
     "source_hidden": true
    }
   },
   "outputs": [
    {
     "name": "stdout",
     "output_type": "stream",
     "text": [
      "Start preprocessing...\n",
      "...Used all 1000 samples from dataset 31.\n",
      "...Filled missing values.\n",
      "...Decoded to original feature values.\n",
      "...Scaled data.\n",
      "Preprocessing done.\n"
     ]
    },
    {
     "name": "stderr",
     "output_type": "stream",
     "text": [
      "/Users/hildeweerts/anaconda/lib/python3.6/site-packages/sklearn/preprocessing/data.py:617: DataConversionWarning: Data with input dtype float32 were all converted to float64 by StandardScaler.\n",
      "  return self.partial_fit(X, y)\n",
      "/Users/hildeweerts/Projects/fpdash/fpdash/cbr/prep.py:78: DataConversionWarning: Data with input dtype float32 were all converted to float64 by StandardScaler.\n",
      "  X_train = pd.DataFrame(scaler.transform(X_train), columns=list(X_train))\n",
      "/Users/hildeweerts/Projects/fpdash/fpdash/cbr/prep.py:79: DataConversionWarning: Data with input dtype float32 were all converted to float64 by StandardScaler.\n",
      "  X_test = pd.DataFrame(scaler.transform(X_test), columns=list(X_test))\n"
     ]
    }
   ],
   "source": [
    "data = prep.openmlwrapper(data_id=data_id, random_state=1, n_samples = 3000, verbose=True, scale=True, test_size=0.5)"
   ]
  },
  {
   "cell_type": "markdown",
   "metadata": {},
   "source": [
    "##### Split test data further\n",
    "* train: \n",
    "    - true class known\n",
    "    - used during training\n",
    "* test: \n",
    "    - true class known\n",
    "    - not used during training\n",
    "* application: \n",
    "    - true class \"unknown\"\n",
    "    - not used during training"
   ]
  },
  {
   "cell_type": "code",
   "execution_count": 115,
   "metadata": {},
   "outputs": [],
   "source": [
    "data['X_test_pre'], data['X_test_post'], data['y_test_pre'], data['y_test_post'] = train_test_split(data['X_test'], \n",
    "                                                                                                    data['y_test'].reset_index(drop=True), \n",
    "                                                                                                    random_state=1,\n",
    "                                                                                                    test_size=0.5)"
   ]
  },
  {
   "cell_type": "code",
   "execution_count": 116,
   "metadata": {},
   "outputs": [],
   "source": [
    "from sklearn.metrics import roc_auc_score, brier_score_loss\n"
   ]
  },
  {
   "cell_type": "markdown",
   "metadata": {},
   "source": [
    "#### Train classifier"
   ]
  },
  {
   "cell_type": "code",
   "execution_count": 117,
   "metadata": {
    "jupyter": {
     "source_hidden": true
    }
   },
   "outputs": [
    {
     "name": "stdout",
     "output_type": "stream",
     "text": [
      "Training Accuracy:    1.00\n",
      "Test Accuracy:        0.74\n",
      "\n",
      "Application Accuracy: 0.768\n",
      "Application AUC:      0.775\n",
      "Application Brier:    0.158\n"
     ]
    }
   ],
   "source": [
    "clf = RandomForestClassifier(n_estimators = 100, n_jobs=-2, random_state=1)\n",
    "clf.fit(data['X_train'], np.array(data['y_train']).ravel())\n",
    "print('Training Accuracy:    %.2f' % clf.score(data['X_train'], data['y_train']))\n",
    "print('Test Accuracy:        %.2f' % clf.score(data['X_test_pre'], data['y_test_pre']))\n",
    "print()\n",
    "print('Application Accuracy: %.3f' % clf.score(data['X_test_post'], data['y_test_post']))\n",
    "y_app_score = [i[1] for i in clf.predict_proba(data['X_test_post'])]\n",
    "print('Application AUC:      %.3f' % roc_auc_score(y_true=data['y_test_post']['class'].ravel(), y_score=y_app_score))\n",
    "print('Application Brier:    %.3f' % brier_score_loss(y_true=data['y_test_post']['class'].ravel(), y_prob=y_app_score))"
   ]
  },
  {
   "cell_type": "markdown",
   "metadata": {},
   "source": [
    "#### Create casebase and alerts\n",
    "* The case base consists of instances from the training dataset and test dataset.\n",
    "* The alert data consists of instances from the application dataset for which the model predicted a positive."
   ]
  },
  {
   "cell_type": "code",
   "execution_count": 118,
   "metadata": {},
   "outputs": [],
   "source": [
    "pre_indices = data['X_test_pre'].index\n",
    "post_indices = data['X_test_post'].index"
   ]
  },
  {
   "cell_type": "code",
   "execution_count": 119,
   "metadata": {},
   "outputs": [],
   "source": [
    "# Case Base\n",
    "data['X_base'] = pd.concat([data['X_train'], data['X_test_pre']]).reset_index(drop=True)\n",
    "data['y_base'] = pd.concat([data['y_train'], data['y_test_pre']]).reset_index(drop=True)\n",
    "data['X_base_decoded'] = pd.concat([data['X_train_decoded'], \n",
    "                                    data['X_test_decoded'].reset_index(drop=True).iloc[pre_indices]]\n",
    "                                  ).reset_index(drop=True)\n",
    "\n",
    "# Alerts\n",
    "y_test_post_pred = pd.DataFrame({'prediction' : clf.predict(data['X_test_post'])})\n",
    "y_test_post_pred['index'] = data['y_test_post'].index\n",
    "y_test_post_pred = y_test_post_pred.set_index('index')\n",
    "# alert_indices = y_test_post_pred[y_test_post_pred['prediction']==1].index\n",
    "alert_indices = y_test_post_pred.index\n",
    "data['X_alert'] = data['X_test_post'].copy().loc[alert_indices].reset_index(drop=True)\n",
    "data['y_alert'] = data['y_test_post'].copy().loc[alert_indices].reset_index(drop=True)\n",
    "data['X_alert_decoded'] = data['X_test_decoded'].reset_index(drop=True).loc[alert_indices].reset_index(drop=True)"
   ]
  },
  {
   "cell_type": "markdown",
   "metadata": {},
   "source": [
    "#### Retrieve metadata\n",
    "* Retrieve prediction probabilities (case base + alerts)\n",
    "* Retrieve historical performance (case base)"
   ]
  },
  {
   "cell_type": "code",
   "execution_count": 120,
   "metadata": {},
   "outputs": [],
   "source": [
    "# Compute prediction probabilities\n",
    "y_base_score = [i[1] for i in clf.predict_proba(data['X_base'])]\n",
    "y_alert_score = [i[1] for i in clf.predict_proba(data['X_alert'])]\n",
    "\n",
    "# Compute performance for cases in de case base\n",
    "y_base_pred = clf.predict(data['X_base'])\n",
    "base_performance = []\n",
    "for pred, true in zip(y_base_pred, data['y_base'].values.ravel()):\n",
    "    if (pred==1) and (true==1):\n",
    "        base_performance.append('TP')\n",
    "    elif (pred==1) and (true==0):\n",
    "        base_performance.append('FP')\n",
    "    elif (pred==0) and (true==0):\n",
    "        base_performance.append('TN')\n",
    "    elif (pred==0) and (true==1):\n",
    "        base_performance.append('FN')\n",
    "\n",
    "# gather metadata\n",
    "meta_base = pd.DataFrame({'performance' : base_performance, 'score' : y_base_score})\n",
    "meta_alert = pd.DataFrame({'score' : y_alert_score})"
   ]
  },
  {
   "cell_type": "markdown",
   "metadata": {},
   "source": [
    "#### Compute SHAP"
   ]
  },
  {
   "cell_type": "code",
   "execution_count": 121,
   "metadata": {
    "jupyter": {
     "source_hidden": true
    }
   },
   "outputs": [
    {
     "name": "stdout",
     "output_type": "stream",
     "text": [
      "Explained.\n"
     ]
    }
   ],
   "source": [
    "explainer = shap.TreeExplainer(clf)\n",
    "SHAP_base = pd.DataFrame(explainer.shap_values(X=data['X_base'])[1], columns=list(data['X_base']))\n",
    "SHAP_alert = pd.DataFrame(explainer.shap_values(X=data['X_alert'])[1], columns=list(data['X_alert']))\n",
    "print('Explained.')"
   ]
  },
  {
   "cell_type": "markdown",
   "metadata": {},
   "source": [
    "#### Train NN"
   ]
  },
  {
   "cell_type": "code",
   "execution_count": 122,
   "metadata": {},
   "outputs": [
    {
     "name": "stdout",
     "output_type": "stream",
     "text": [
      "Initialized nearest neighbor.\n"
     ]
    }
   ],
   "source": [
    "# Find nearest SHAP neighbors\n",
    "nn = NearestNeighbors(n_neighbors=10, algorithm='brute', metric='euclidean', n_jobs=1)\n",
    "nn.fit(SHAP_base)\n",
    "print('Initialized nearest neighbor.')"
   ]
  },
  {
   "cell_type": "markdown",
   "metadata": {},
   "source": [
    "#### Save files"
   ]
  },
  {
   "cell_type": "code",
   "execution_count": 123,
   "metadata": {},
   "outputs": [
    {
     "data": {
      "text/plain": [
       "RandomForestClassifier(bootstrap=True, class_weight=None, criterion='gini',\n",
       "            max_depth=None, max_features='auto', max_leaf_nodes=None,\n",
       "            min_impurity_decrease=0.0, min_impurity_split=None,\n",
       "            min_samples_leaf=1, min_samples_split=2,\n",
       "            min_weight_fraction_leaf=0.0, n_estimators=100, n_jobs=1,\n",
       "            oob_score=False, random_state=1, verbose=0, warm_start=False)"
      ]
     },
     "execution_count": 123,
     "metadata": {},
     "output_type": "execute_result"
    }
   ],
   "source": [
    "# Set jobs to 1 \n",
    "clf.set_params(n_jobs=1)"
   ]
  },
  {
   "cell_type": "code",
   "execution_count": 124,
   "metadata": {
    "jupyter": {
     "source_hidden": true
    }
   },
   "outputs": [
    {
     "name": "stdout",
     "output_type": "stream",
     "text": [
      "Saved!\n"
     ]
    }
   ],
   "source": [
    "# Save classifier\n",
    "with open(os.getcwd() + '/data/clf.pickle', 'wb') as handle:\n",
    "    pickle.dump(clf, handle, protocol=pickle.HIGHEST_PROTOCOL)\n",
    "# Save nearest neighbor on SHAP\n",
    "with open(os.getcwd() + '/data/nn.pickle', 'wb') as handle:\n",
    "    pickle.dump(nn, handle, protocol=pickle.HIGHEST_PROTOCOL)\n",
    "    \n",
    "# Save case base\n",
    "data['X_base'].to_csv(os.getcwd() + '/data/X_base.csv', index=False)\n",
    "data['X_base_decoded'].to_csv(os.getcwd() + '/data/X_base_decoded.csv', index=False)\n",
    "meta_base.to_csv(os.getcwd() + '/data/meta_base.csv', index=False)\n",
    "SHAP_base.to_csv(os.getcwd() + '/data/SHAP_base.csv', index=False)\n",
    "data['y_base'].to_csv(os.getcwd() + '/data/y_base.csv', index=False)\n",
    "\n",
    "# Save alerts\n",
    "data['X_alert'].to_csv(os.getcwd() + '/data/X_alert.csv', index=False)\n",
    "data['X_alert_decoded'].to_csv(os.getcwd() + '/data/X_alert_decoded.csv', index=False)\n",
    "meta_alert.to_csv(os.getcwd() + '/data/meta_alert.csv', index=False)\n",
    "SHAP_alert.to_csv(os.getcwd() + '/data/SHAP_alert.csv', index=False)\n",
    "data['y_alert'].to_csv(os.getcwd() + '/data/y_alert.csv', index=False)\n",
    "\n",
    "# Save training data separately\n",
    "data['X_train'].to_csv(os.getcwd() + '/data/X_train.csv', index=False)\n",
    "\n",
    "print('Saved!')"
   ]
  },
  {
   "cell_type": "code",
   "execution_count": 126,
   "metadata": {},
   "outputs": [
    {
     "data": {
      "text/html": [
       "<div>\n",
       "<style scoped>\n",
       "    .dataframe tbody tr th:only-of-type {\n",
       "        vertical-align: middle;\n",
       "    }\n",
       "\n",
       "    .dataframe tbody tr th {\n",
       "        vertical-align: top;\n",
       "    }\n",
       "\n",
       "    .dataframe thead th {\n",
       "        text-align: right;\n",
       "    }\n",
       "</style>\n",
       "<table border=\"1\" class=\"dataframe\">\n",
       "  <thead>\n",
       "    <tr style=\"text-align: right;\">\n",
       "      <th></th>\n",
       "      <th>score</th>\n",
       "    </tr>\n",
       "  </thead>\n",
       "  <tbody>\n",
       "    <tr>\n",
       "      <th>0</th>\n",
       "      <td>0.54</td>\n",
       "    </tr>\n",
       "    <tr>\n",
       "      <th>1</th>\n",
       "      <td>0.62</td>\n",
       "    </tr>\n",
       "    <tr>\n",
       "      <th>2</th>\n",
       "      <td>0.44</td>\n",
       "    </tr>\n",
       "    <tr>\n",
       "      <th>3</th>\n",
       "      <td>0.06</td>\n",
       "    </tr>\n",
       "    <tr>\n",
       "      <th>4</th>\n",
       "      <td>0.30</td>\n",
       "    </tr>\n",
       "    <tr>\n",
       "      <th>5</th>\n",
       "      <td>0.11</td>\n",
       "    </tr>\n",
       "    <tr>\n",
       "      <th>6</th>\n",
       "      <td>0.27</td>\n",
       "    </tr>\n",
       "    <tr>\n",
       "      <th>7</th>\n",
       "      <td>0.10</td>\n",
       "    </tr>\n",
       "    <tr>\n",
       "      <th>8</th>\n",
       "      <td>0.07</td>\n",
       "    </tr>\n",
       "    <tr>\n",
       "      <th>9</th>\n",
       "      <td>0.01</td>\n",
       "    </tr>\n",
       "    <tr>\n",
       "      <th>10</th>\n",
       "      <td>0.45</td>\n",
       "    </tr>\n",
       "    <tr>\n",
       "      <th>11</th>\n",
       "      <td>0.28</td>\n",
       "    </tr>\n",
       "    <tr>\n",
       "      <th>12</th>\n",
       "      <td>0.11</td>\n",
       "    </tr>\n",
       "    <tr>\n",
       "      <th>13</th>\n",
       "      <td>0.27</td>\n",
       "    </tr>\n",
       "    <tr>\n",
       "      <th>14</th>\n",
       "      <td>0.40</td>\n",
       "    </tr>\n",
       "    <tr>\n",
       "      <th>15</th>\n",
       "      <td>0.47</td>\n",
       "    </tr>\n",
       "    <tr>\n",
       "      <th>16</th>\n",
       "      <td>0.16</td>\n",
       "    </tr>\n",
       "    <tr>\n",
       "      <th>17</th>\n",
       "      <td>0.31</td>\n",
       "    </tr>\n",
       "    <tr>\n",
       "      <th>18</th>\n",
       "      <td>0.68</td>\n",
       "    </tr>\n",
       "    <tr>\n",
       "      <th>19</th>\n",
       "      <td>0.22</td>\n",
       "    </tr>\n",
       "    <tr>\n",
       "      <th>20</th>\n",
       "      <td>0.14</td>\n",
       "    </tr>\n",
       "    <tr>\n",
       "      <th>21</th>\n",
       "      <td>0.55</td>\n",
       "    </tr>\n",
       "    <tr>\n",
       "      <th>22</th>\n",
       "      <td>0.29</td>\n",
       "    </tr>\n",
       "    <tr>\n",
       "      <th>23</th>\n",
       "      <td>0.17</td>\n",
       "    </tr>\n",
       "    <tr>\n",
       "      <th>24</th>\n",
       "      <td>0.53</td>\n",
       "    </tr>\n",
       "    <tr>\n",
       "      <th>25</th>\n",
       "      <td>0.75</td>\n",
       "    </tr>\n",
       "    <tr>\n",
       "      <th>26</th>\n",
       "      <td>0.40</td>\n",
       "    </tr>\n",
       "    <tr>\n",
       "      <th>27</th>\n",
       "      <td>0.12</td>\n",
       "    </tr>\n",
       "    <tr>\n",
       "      <th>28</th>\n",
       "      <td>0.17</td>\n",
       "    </tr>\n",
       "    <tr>\n",
       "      <th>29</th>\n",
       "      <td>0.07</td>\n",
       "    </tr>\n",
       "    <tr>\n",
       "      <th>...</th>\n",
       "      <td>...</td>\n",
       "    </tr>\n",
       "    <tr>\n",
       "      <th>220</th>\n",
       "      <td>0.54</td>\n",
       "    </tr>\n",
       "    <tr>\n",
       "      <th>221</th>\n",
       "      <td>0.08</td>\n",
       "    </tr>\n",
       "    <tr>\n",
       "      <th>222</th>\n",
       "      <td>0.60</td>\n",
       "    </tr>\n",
       "    <tr>\n",
       "      <th>223</th>\n",
       "      <td>0.30</td>\n",
       "    </tr>\n",
       "    <tr>\n",
       "      <th>224</th>\n",
       "      <td>0.08</td>\n",
       "    </tr>\n",
       "    <tr>\n",
       "      <th>225</th>\n",
       "      <td>0.21</td>\n",
       "    </tr>\n",
       "    <tr>\n",
       "      <th>226</th>\n",
       "      <td>0.10</td>\n",
       "    </tr>\n",
       "    <tr>\n",
       "      <th>227</th>\n",
       "      <td>0.15</td>\n",
       "    </tr>\n",
       "    <tr>\n",
       "      <th>228</th>\n",
       "      <td>0.25</td>\n",
       "    </tr>\n",
       "    <tr>\n",
       "      <th>229</th>\n",
       "      <td>0.37</td>\n",
       "    </tr>\n",
       "    <tr>\n",
       "      <th>230</th>\n",
       "      <td>0.36</td>\n",
       "    </tr>\n",
       "    <tr>\n",
       "      <th>231</th>\n",
       "      <td>0.08</td>\n",
       "    </tr>\n",
       "    <tr>\n",
       "      <th>232</th>\n",
       "      <td>0.41</td>\n",
       "    </tr>\n",
       "    <tr>\n",
       "      <th>233</th>\n",
       "      <td>0.79</td>\n",
       "    </tr>\n",
       "    <tr>\n",
       "      <th>234</th>\n",
       "      <td>0.55</td>\n",
       "    </tr>\n",
       "    <tr>\n",
       "      <th>235</th>\n",
       "      <td>0.38</td>\n",
       "    </tr>\n",
       "    <tr>\n",
       "      <th>236</th>\n",
       "      <td>0.05</td>\n",
       "    </tr>\n",
       "    <tr>\n",
       "      <th>237</th>\n",
       "      <td>0.22</td>\n",
       "    </tr>\n",
       "    <tr>\n",
       "      <th>238</th>\n",
       "      <td>0.22</td>\n",
       "    </tr>\n",
       "    <tr>\n",
       "      <th>239</th>\n",
       "      <td>0.14</td>\n",
       "    </tr>\n",
       "    <tr>\n",
       "      <th>240</th>\n",
       "      <td>0.41</td>\n",
       "    </tr>\n",
       "    <tr>\n",
       "      <th>241</th>\n",
       "      <td>0.33</td>\n",
       "    </tr>\n",
       "    <tr>\n",
       "      <th>242</th>\n",
       "      <td>0.18</td>\n",
       "    </tr>\n",
       "    <tr>\n",
       "      <th>243</th>\n",
       "      <td>0.37</td>\n",
       "    </tr>\n",
       "    <tr>\n",
       "      <th>244</th>\n",
       "      <td>0.20</td>\n",
       "    </tr>\n",
       "    <tr>\n",
       "      <th>245</th>\n",
       "      <td>0.32</td>\n",
       "    </tr>\n",
       "    <tr>\n",
       "      <th>246</th>\n",
       "      <td>0.15</td>\n",
       "    </tr>\n",
       "    <tr>\n",
       "      <th>247</th>\n",
       "      <td>0.24</td>\n",
       "    </tr>\n",
       "    <tr>\n",
       "      <th>248</th>\n",
       "      <td>0.24</td>\n",
       "    </tr>\n",
       "    <tr>\n",
       "      <th>249</th>\n",
       "      <td>0.48</td>\n",
       "    </tr>\n",
       "  </tbody>\n",
       "</table>\n",
       "<p>250 rows × 1 columns</p>\n",
       "</div>"
      ],
      "text/plain": [
       "     score\n",
       "0     0.54\n",
       "1     0.62\n",
       "2     0.44\n",
       "3     0.06\n",
       "4     0.30\n",
       "5     0.11\n",
       "6     0.27\n",
       "7     0.10\n",
       "8     0.07\n",
       "9     0.01\n",
       "10    0.45\n",
       "11    0.28\n",
       "12    0.11\n",
       "13    0.27\n",
       "14    0.40\n",
       "15    0.47\n",
       "16    0.16\n",
       "17    0.31\n",
       "18    0.68\n",
       "19    0.22\n",
       "20    0.14\n",
       "21    0.55\n",
       "22    0.29\n",
       "23    0.17\n",
       "24    0.53\n",
       "25    0.75\n",
       "26    0.40\n",
       "27    0.12\n",
       "28    0.17\n",
       "29    0.07\n",
       "..     ...\n",
       "220   0.54\n",
       "221   0.08\n",
       "222   0.60\n",
       "223   0.30\n",
       "224   0.08\n",
       "225   0.21\n",
       "226   0.10\n",
       "227   0.15\n",
       "228   0.25\n",
       "229   0.37\n",
       "230   0.36\n",
       "231   0.08\n",
       "232   0.41\n",
       "233   0.79\n",
       "234   0.55\n",
       "235   0.38\n",
       "236   0.05\n",
       "237   0.22\n",
       "238   0.22\n",
       "239   0.14\n",
       "240   0.41\n",
       "241   0.33\n",
       "242   0.18\n",
       "243   0.37\n",
       "244   0.20\n",
       "245   0.32\n",
       "246   0.15\n",
       "247   0.24\n",
       "248   0.24\n",
       "249   0.48\n",
       "\n",
       "[250 rows x 1 columns]"
      ]
     },
     "execution_count": 126,
     "metadata": {},
     "output_type": "execute_result"
    }
   ],
   "source": [
    "meta_alert"
   ]
  },
  {
   "cell_type": "code",
   "execution_count": null,
   "metadata": {},
   "outputs": [],
   "source": []
  }
 ],
 "metadata": {
  "kernelspec": {
   "display_name": "Python 3",
   "language": "python",
   "name": "python3"
  },
  "language_info": {
   "codemirror_mode": {
    "name": "ipython",
    "version": 3
   },
   "file_extension": ".py",
   "mimetype": "text/x-python",
   "name": "python",
   "nbconvert_exporter": "python",
   "pygments_lexer": "ipython3",
   "version": "3.6.0"
  }
 },
 "nbformat": 4,
 "nbformat_minor": 2
}
